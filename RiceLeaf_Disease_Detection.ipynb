{
 "cells": [
  {
   "cell_type": "markdown",
   "metadata": {
    "id": "9knJnPXsGzNI"
   },
   "source": [
    "#**INDIVIDUAL ID** **:** PTID-CDS-APR-24-1892"
   ]
  },
  {
   "cell_type": "markdown",
   "metadata": {
    "id": "UgnYiNqwG6C0"
   },
   "source": [
    "#**BATCH ID** **:** 20-NOV-CDS-WDM09-BAN"
   ]
  },
  {
   "cell_type": "markdown",
   "metadata": {
    "id": "vKV8d1qAG-O7"
   },
   "source": [
    "#**PROJECT** **:** PRCP- 1001- RiceLeaf disease detection"
   ]
  },
  {
   "cell_type": "markdown",
   "metadata": {
    "id": "NMfanftyHdtm"
   },
   "source": [
    "#**Problem Statement**\n",
    "\n",
    "##**Task 1:-**Prepare a complete data analysis report on the given data.\n",
    "\n",
    "##**Task 2:-**Create a model which can classify the three major attacking diseases of rice plants like leaf blast, bacterial blight and brown spot.\n",
    "\n",
    "##**Task3:-**Analyze various techniques like Data Augmentation, etc and create a report on that.\n"
   ]
  },
  {
   "cell_type": "markdown",
   "metadata": {
    "id": "iAkBXYBtHyp3"
   },
   "source": [
    "##**Domain Expertise**\n",
    "- The dataset includes 119 jpg images of rice leaves effected by different types of diseases.\n",
    "- The classes are:-\n",
    "- **Bacterial Leaf Blight**\n",
    "-  Bacterial leaf blight of rice (BB) is a disease caused by the Gram-negative bacterium Xanthomonas oryzae pv.Bacterial leaf blight is often first noticed in fields as brown areas about 3 to 4 feet in diameter. Leaf symptoms appear as irregular brown spots, often beginning on the leaf margins. Lesions initially have an irregular yellow halo and may appear watersoaked.\n",
    "- **Brown Spot**\n",
    "- Brown spot is a fungal disease that can infect both seedlings and mature plants. The disease causes blight on seedlings, which are grown from heavily infected seeds, and can cause 10-58% seedling mortality.\n",
    "- **Leaf Smut**\n",
    "- Leaf smut, caused by the fungus Entyloma oryzae, is a widely distributed, but somewhat minor, disease of rice.The fungus produces slightly raised, angular, black spots (sori) on both sides of the leaves.The black spots are about 0.5 to 5.0 millimeters long and 0.5 to 1.5 millimeters wide.\n",
    "**The class Leaf Smut contains 39 jpg images while rest all classes contain 40 jpg images.**\n",
    "\n"
   ]
  },
  {
   "cell_type": "markdown",
   "metadata": {
    "id": "6FKx4XyUH6sl"
   },
   "source": [
    "##**IMPORTING NECESSARY LIBRARIES**"
   ]
  },
  {
   "cell_type": "code",
   "execution_count": 1,
   "metadata": {
    "id": "_emZgUe2GbsZ"
   },
   "outputs": [],
   "source": [
    "import numpy as np\n",
    "import pandas as pd\n",
    "import matplotlib.pyplot as plt\n",
    "%matplotlib inline\n",
    "import seaborn as sns\n",
    "import tensorflow as tf\n",
    "import warnings\n",
    "warnings.filterwarnings('ignore')"
   ]
  },
  {
   "cell_type": "code",
   "execution_count": 2,
   "metadata": {
    "id": "_xIK6K6oIFIk"
   },
   "outputs": [],
   "source": [
    "from tensorflow.keras.utils import to_categorical\n",
    "from keras.models import Sequential,model_from_json\n",
    "from keras.layers import Conv2D , MaxPooling2D , Flatten ,Dense ,Dropout\n",
    "from keras.preprocessing import image\n",
    "from tensorflow.keras.preprocessing.image import ImageDataGenerator\n",
    "import cv2\n",
    "import urllib"
   ]
  },
  {
   "cell_type": "code",
   "execution_count": 3,
   "metadata": {
    "id": "nHs7fwrPIIl5"
   },
   "outputs": [],
   "source": [
    "input_shape_2D = (224,224)\n",
    "input_shape_3D = (224,224,3)\n",
    "seed = 1\n",
    "batch_size = 5\n",
    "epochs = 30"
   ]
  },
  {
   "cell_type": "code",
   "execution_count": 4,
   "metadata": {
    "colab": {
     "base_uri": "https://localhost:8080/"
    },
    "id": "Mj8Ia6rzIK5-",
    "outputId": "be493e53-8185-47b8-cbf2-d25bd95ad272"
   },
   "outputs": [
    {
     "ename": "ModuleNotFoundError",
     "evalue": "No module named 'google.colab'",
     "output_type": "error",
     "traceback": [
      "\u001b[1;31m---------------------------------------------------------------------------\u001b[0m",
      "\u001b[1;31mModuleNotFoundError\u001b[0m                       Traceback (most recent call last)",
      "Cell \u001b[1;32mIn[4], line 1\u001b[0m\n\u001b[1;32m----> 1\u001b[0m \u001b[38;5;28;01mfrom\u001b[39;00m \u001b[38;5;21;01mgoogle\u001b[39;00m\u001b[38;5;21;01m.\u001b[39;00m\u001b[38;5;21;01mcolab\u001b[39;00m \u001b[38;5;28;01mimport\u001b[39;00m drive\n\u001b[0;32m      2\u001b[0m drive\u001b[38;5;241m.\u001b[39mmount(\u001b[38;5;124m'\u001b[39m\u001b[38;5;124m/content/drive\u001b[39m\u001b[38;5;124m'\u001b[39m)\n",
      "\u001b[1;31mModuleNotFoundError\u001b[0m: No module named 'google.colab'"
     ]
    }
   ],
   "source": [
    "from google.colab import drive\n",
    "drive.mount('/content/drive')"
   ]
  },
  {
   "cell_type": "markdown",
   "metadata": {
    "id": "pTxr_EoDPeas"
   },
   "source": [
    "##**LOADING THE DATA**"
   ]
  },
  {
   "cell_type": "code",
   "execution_count": 5,
   "metadata": {
    "colab": {
     "base_uri": "https://localhost:8080/"
    },
    "id": "WX_SOH2sIPtW",
    "outputId": "80f8c323-0401-46d5-8245-a4398848119f"
   },
   "outputs": [
    {
     "ename": "NotFoundError",
     "evalue": "Could not find directory data",
     "output_type": "error",
     "traceback": [
      "\u001b[1;31m---------------------------------------------------------------------------\u001b[0m",
      "\u001b[1;31mNotFoundError\u001b[0m                             Traceback (most recent call last)",
      "Cell \u001b[1;32mIn[5], line 1\u001b[0m\n\u001b[1;32m----> 1\u001b[0m data \u001b[38;5;241m=\u001b[39m tf\u001b[38;5;241m.\u001b[39mkeras\u001b[38;5;241m.\u001b[39mutils\u001b[38;5;241m.\u001b[39mimage_dataset_from_directory(directory\u001b[38;5;241m=\u001b[39m\u001b[38;5;124m\"\u001b[39m\u001b[38;5;124mdata\u001b[39m\u001b[38;5;124m\"\u001b[39m,\n\u001b[0;32m      2\u001b[0m                                                   labels\u001b[38;5;241m=\u001b[39m\u001b[38;5;124m'\u001b[39m\u001b[38;5;124minferred\u001b[39m\u001b[38;5;124m'\u001b[39m,\n\u001b[0;32m      3\u001b[0m                                                   label_mode\u001b[38;5;241m=\u001b[39m\u001b[38;5;124m'\u001b[39m\u001b[38;5;124mint\u001b[39m\u001b[38;5;124m'\u001b[39m,\n\u001b[0;32m      4\u001b[0m                                                   class_names\u001b[38;5;241m=\u001b[39m\u001b[38;5;28;01mNone\u001b[39;00m,\n\u001b[0;32m      5\u001b[0m                                                   color_mode\u001b[38;5;241m=\u001b[39m\u001b[38;5;124m'\u001b[39m\u001b[38;5;124mrgb\u001b[39m\u001b[38;5;124m'\u001b[39m,\n\u001b[0;32m      6\u001b[0m                                                   image_size\u001b[38;5;241m=\u001b[39minput_shape_2D,\n\u001b[0;32m      7\u001b[0m                                                   seed\u001b[38;5;241m=\u001b[39mseed)\n",
      "File \u001b[1;32m~\\Pictures\\anaconda\\Lib\\site-packages\\keras\\src\\utils\\image_dataset_utils.py:223\u001b[0m, in \u001b[0;36mimage_dataset_from_directory\u001b[1;34m(directory, labels, label_mode, class_names, color_mode, batch_size, image_size, shuffle, seed, validation_split, subset, interpolation, follow_links, crop_to_aspect_ratio, pad_to_aspect_ratio, data_format, verbose)\u001b[0m\n\u001b[0;32m    221\u001b[0m \u001b[38;5;28;01mif\u001b[39;00m seed \u001b[38;5;129;01mis\u001b[39;00m \u001b[38;5;28;01mNone\u001b[39;00m:\n\u001b[0;32m    222\u001b[0m     seed \u001b[38;5;241m=\u001b[39m np\u001b[38;5;241m.\u001b[39mrandom\u001b[38;5;241m.\u001b[39mrandint(\u001b[38;5;241m1e6\u001b[39m)\n\u001b[1;32m--> 223\u001b[0m image_paths, labels, class_names \u001b[38;5;241m=\u001b[39m dataset_utils\u001b[38;5;241m.\u001b[39mindex_directory(\n\u001b[0;32m    224\u001b[0m     directory,\n\u001b[0;32m    225\u001b[0m     labels,\n\u001b[0;32m    226\u001b[0m     formats\u001b[38;5;241m=\u001b[39mALLOWLIST_FORMATS,\n\u001b[0;32m    227\u001b[0m     class_names\u001b[38;5;241m=\u001b[39mclass_names,\n\u001b[0;32m    228\u001b[0m     shuffle\u001b[38;5;241m=\u001b[39mshuffle,\n\u001b[0;32m    229\u001b[0m     seed\u001b[38;5;241m=\u001b[39mseed,\n\u001b[0;32m    230\u001b[0m     follow_links\u001b[38;5;241m=\u001b[39mfollow_links,\n\u001b[0;32m    231\u001b[0m     verbose\u001b[38;5;241m=\u001b[39mverbose,\n\u001b[0;32m    232\u001b[0m )\n\u001b[0;32m    234\u001b[0m \u001b[38;5;28;01mif\u001b[39;00m label_mode \u001b[38;5;241m==\u001b[39m \u001b[38;5;124m\"\u001b[39m\u001b[38;5;124mbinary\u001b[39m\u001b[38;5;124m\"\u001b[39m \u001b[38;5;129;01mand\u001b[39;00m \u001b[38;5;28mlen\u001b[39m(class_names) \u001b[38;5;241m!=\u001b[39m \u001b[38;5;241m2\u001b[39m:\n\u001b[0;32m    235\u001b[0m     \u001b[38;5;28;01mraise\u001b[39;00m \u001b[38;5;167;01mValueError\u001b[39;00m(\n\u001b[0;32m    236\u001b[0m         \u001b[38;5;124m'\u001b[39m\u001b[38;5;124mWhen passing `label_mode=\u001b[39m\u001b[38;5;124m\"\u001b[39m\u001b[38;5;124mbinary\u001b[39m\u001b[38;5;124m\"\u001b[39m\u001b[38;5;124m`, there must be exactly 2 \u001b[39m\u001b[38;5;124m'\u001b[39m\n\u001b[0;32m    237\u001b[0m         \u001b[38;5;124mf\u001b[39m\u001b[38;5;124m\"\u001b[39m\u001b[38;5;124mclass_names. Received: class_names=\u001b[39m\u001b[38;5;132;01m{\u001b[39;00mclass_names\u001b[38;5;132;01m}\u001b[39;00m\u001b[38;5;124m\"\u001b[39m\n\u001b[0;32m    238\u001b[0m     )\n",
      "File \u001b[1;32m~\\Pictures\\anaconda\\Lib\\site-packages\\keras\\src\\utils\\dataset_utils.py:539\u001b[0m, in \u001b[0;36mindex_directory\u001b[1;34m(directory, labels, formats, class_names, shuffle, seed, follow_links, verbose)\u001b[0m\n\u001b[0;32m    537\u001b[0m \u001b[38;5;28;01mif\u001b[39;00m labels \u001b[38;5;241m==\u001b[39m \u001b[38;5;124m\"\u001b[39m\u001b[38;5;124minferred\u001b[39m\u001b[38;5;124m\"\u001b[39m:\n\u001b[0;32m    538\u001b[0m     subdirs \u001b[38;5;241m=\u001b[39m []\n\u001b[1;32m--> 539\u001b[0m     \u001b[38;5;28;01mfor\u001b[39;00m subdir \u001b[38;5;129;01min\u001b[39;00m \u001b[38;5;28msorted\u001b[39m(tf\u001b[38;5;241m.\u001b[39mio\u001b[38;5;241m.\u001b[39mgfile\u001b[38;5;241m.\u001b[39mlistdir(directory)):\n\u001b[0;32m    540\u001b[0m         \u001b[38;5;28;01mif\u001b[39;00m tf\u001b[38;5;241m.\u001b[39mio\u001b[38;5;241m.\u001b[39mgfile\u001b[38;5;241m.\u001b[39misdir(tf\u001b[38;5;241m.\u001b[39mio\u001b[38;5;241m.\u001b[39mgfile\u001b[38;5;241m.\u001b[39mjoin(directory, subdir)):\n\u001b[0;32m    541\u001b[0m             \u001b[38;5;28;01mif\u001b[39;00m \u001b[38;5;129;01mnot\u001b[39;00m subdir\u001b[38;5;241m.\u001b[39mstartswith(\u001b[38;5;124m\"\u001b[39m\u001b[38;5;124m.\u001b[39m\u001b[38;5;124m\"\u001b[39m):\n",
      "File \u001b[1;32m~\\Pictures\\anaconda\\Lib\\site-packages\\tensorflow\\python\\lib\\io\\file_io.py:768\u001b[0m, in \u001b[0;36mlist_directory_v2\u001b[1;34m(path)\u001b[0m\n\u001b[0;32m    753\u001b[0m \u001b[38;5;250m\u001b[39m\u001b[38;5;124;03m\"\"\"Returns a list of entries contained within a directory.\u001b[39;00m\n\u001b[0;32m    754\u001b[0m \n\u001b[0;32m    755\u001b[0m \u001b[38;5;124;03mThe list is in arbitrary order. It does not contain the special entries \".\"\u001b[39;00m\n\u001b[1;32m   (...)\u001b[0m\n\u001b[0;32m    765\u001b[0m \u001b[38;5;124;03m  errors.NotFoundError if directory doesn't exist\u001b[39;00m\n\u001b[0;32m    766\u001b[0m \u001b[38;5;124;03m\"\"\"\u001b[39;00m\n\u001b[0;32m    767\u001b[0m \u001b[38;5;28;01mif\u001b[39;00m \u001b[38;5;129;01mnot\u001b[39;00m is_directory(path):\n\u001b[1;32m--> 768\u001b[0m   \u001b[38;5;28;01mraise\u001b[39;00m errors\u001b[38;5;241m.\u001b[39mNotFoundError(\n\u001b[0;32m    769\u001b[0m       node_def\u001b[38;5;241m=\u001b[39m\u001b[38;5;28;01mNone\u001b[39;00m,\n\u001b[0;32m    770\u001b[0m       op\u001b[38;5;241m=\u001b[39m\u001b[38;5;28;01mNone\u001b[39;00m,\n\u001b[0;32m    771\u001b[0m       message\u001b[38;5;241m=\u001b[39m\u001b[38;5;124m\"\u001b[39m\u001b[38;5;124mCould not find directory \u001b[39m\u001b[38;5;132;01m{}\u001b[39;00m\u001b[38;5;124m\"\u001b[39m\u001b[38;5;241m.\u001b[39mformat(path))\n\u001b[0;32m    773\u001b[0m \u001b[38;5;66;03m# Convert each element to string, since the return values of the\u001b[39;00m\n\u001b[0;32m    774\u001b[0m \u001b[38;5;66;03m# vector of string should be interpreted as strings, not bytes.\u001b[39;00m\n\u001b[0;32m    775\u001b[0m \u001b[38;5;28;01mreturn\u001b[39;00m [\n\u001b[0;32m    776\u001b[0m     compat\u001b[38;5;241m.\u001b[39mas_str_any(filename)\n\u001b[0;32m    777\u001b[0m     \u001b[38;5;28;01mfor\u001b[39;00m filename \u001b[38;5;129;01min\u001b[39;00m _pywrap_file_io\u001b[38;5;241m.\u001b[39mGetChildren(compat\u001b[38;5;241m.\u001b[39mpath_to_bytes(path))\n\u001b[0;32m    778\u001b[0m ]\n",
      "\u001b[1;31mNotFoundError\u001b[0m: Could not find directory data"
     ]
    }
   ],
   "source": [
    "data = tf.keras.utils.image_dataset_from_directory(directory=\"data\",\n",
    "                                                  labels='inferred',\n",
    "                                                  label_mode='int',\n",
    "                                                  class_names=None,\n",
    "                                                  color_mode='rgb',\n",
    "                                                  image_size=input_shape_2D,\n",
    "                                                  seed=seed)"
   ]
  },
  {
   "cell_type": "code",
   "execution_count": null,
   "metadata": {
    "colab": {
     "base_uri": "https://localhost:8080/"
    },
    "id": "e6S1UXHtMjxe",
    "outputId": "a50eab1d-7f14-4acc-95be-033f2fb3b444"
   },
   "outputs": [],
   "source": [
    "# print class names\n",
    "\n",
    "class_names = data.class_names\n",
    "class_names"
   ]
  },
  {
   "cell_type": "markdown",
   "metadata": {
    "id": "vKb_8VG4P6-d"
   },
   "source": [
    "#### The 3 Classes are - Bacterial leaf blight, Brown spot, Leaf smut."
   ]
  },
  {
   "cell_type": "code",
   "execution_count": null,
   "metadata": {
    "colab": {
     "base_uri": "https://localhost:8080/"
    },
    "id": "hm_D-u1bPsrj",
    "outputId": "d58fb4c8-c099-4dae-c4a2-a7f2de727506"
   },
   "outputs": [],
   "source": [
    "# Initialize an empty dictionary to store class counts\n",
    "class_counts = {}\n",
    "\n",
    "# Iterate through the dataset to count occurrences of each class label\n",
    "for images, labels in data:\n",
    "    for label in labels:\n",
    "        class_counts[label.numpy()] = class_counts.get(label.numpy(), 0) + 1\n",
    "\n",
    "# Print the class counts\n",
    "print(class_counts)\n"
   ]
  },
  {
   "cell_type": "markdown",
   "metadata": {
    "id": "here9WbLQF3W"
   },
   "source": [
    "##**Image Visualisation**"
   ]
  },
  {
   "cell_type": "code",
   "execution_count": null,
   "metadata": {
    "colab": {
     "base_uri": "https://localhost:8080/",
     "height": 564
    },
    "id": "WCkqbSPBP-3a",
    "outputId": "7b022dfc-8b75-4a07-e562-2589b3f3464e"
   },
   "outputs": [],
   "source": [
    "# Class names and counts\n",
    "class_names = ['Bacterial leaf blight', 'Brown spot', 'Leaf smut']\n",
    "class_counts = [40, 40, 39]  # Replace with your actual counts\n",
    "\n",
    "# Plotting\n",
    "plt.figure(figsize=(8, 6))\n",
    "plt.bar(class_names, class_counts, color='skyblue')\n",
    "plt.xlabel('Class')\n",
    "plt.ylabel('Count')\n",
    "plt.title('Class Distribution')\n",
    "plt.show()"
   ]
  },
  {
   "cell_type": "markdown",
   "metadata": {
    "id": "KPKC3R6fQSKk"
   },
   "source": [
    "- From the graph we can clearly see that there are a total of 119 images.\n",
    "- 40 in Bacterial Leaf Blight and Brown Spot.\n",
    "- 39 images available in Leaf Smut."
   ]
  },
  {
   "cell_type": "code",
   "execution_count": null,
   "metadata": {
    "colab": {
     "base_uri": "https://localhost:8080/",
     "height": 1000
    },
    "id": "9o8OBYR-QK8U",
    "outputId": "b18fdaec-d232-4496-8b4d-2be42b078f91"
   },
   "outputs": [],
   "source": [
    "plt.figure(figsize=(10,10))\n",
    "for images , labels in data.take(1):\n",
    "    for i in range(25):\n",
    "        plt.subplot(5,5,i+1)\n",
    "        plt.imshow(images[i].numpy().astype('uint8'))\n",
    "        plt.title(class_names[labels[i]])\n",
    "        plt.axis('off')\n",
    "    plt.tight_layout()"
   ]
  },
  {
   "cell_type": "markdown",
   "metadata": {
    "id": "btFi1lsKQgzy"
   },
   "source": [
    "### These are the inputs of our model."
   ]
  },
  {
   "cell_type": "code",
   "execution_count": null,
   "metadata": {
    "id": "dne66D_9QXqe"
   },
   "outputs": [],
   "source": [
    "# Create Dependent(y) and Independent(X) variable\n",
    "\n",
    "X = []\n",
    "y = []\n",
    "\n",
    "for images , labels in data:\n",
    "    X.append(images.numpy())\n",
    "    y.append(labels.numpy())\n",
    "\n",
    "\n",
    "# convert X , y list into numpy array\n",
    "\n",
    "X = np.concatenate(X ,axis=0)\n",
    "y = np.concatenate(y ,axis=0)"
   ]
  },
  {
   "cell_type": "code",
   "execution_count": null,
   "metadata": {
    "colab": {
     "base_uri": "https://localhost:8080/"
    },
    "id": "HcEpNAdMQlfl",
    "outputId": "1d5b2032-0acf-4b97-ba2f-539218d1725d"
   },
   "outputs": [],
   "source": [
    "X"
   ]
  },
  {
   "cell_type": "code",
   "execution_count": null,
   "metadata": {
    "id": "2KmzL-u-QoTl"
   },
   "outputs": [],
   "source": [
    "X = X.astype('float32')/255"
   ]
  },
  {
   "cell_type": "markdown",
   "metadata": {
    "id": "ooz3I0l_Q6Qb"
   },
   "source": [
    "##**Spliting Dataset into Train and Test/Validation data**"
   ]
  },
  {
   "cell_type": "code",
   "execution_count": null,
   "metadata": {
    "id": "iNDE_N-2Q3BM"
   },
   "outputs": [],
   "source": [
    "# Splitt data into train and test / validation\n",
    "\n",
    "X_train, X_test = X[:95 ],X[95:]\n",
    "y_train, y_test = y[:95] ,y[95:]\n"
   ]
  },
  {
   "cell_type": "code",
   "execution_count": null,
   "metadata": {
    "colab": {
     "base_uri": "https://localhost:8080/"
    },
    "id": "kAumpWTrRAvP",
    "outputId": "4604ec31-9270-47da-af4e-b01c4c99ea0e"
   },
   "outputs": [],
   "source": [
    "X_train.shape , X_test.shape"
   ]
  },
  {
   "cell_type": "code",
   "execution_count": null,
   "metadata": {
    "id": "qDWYKw7PREqq"
   },
   "outputs": [],
   "source": [
    "# Convert labels to one-hot encoding\n",
    "y_train = to_categorical(y_train ,len(class_names))\n",
    "y_test = to_categorical(y_test ,len(class_names))"
   ]
  },
  {
   "cell_type": "markdown",
   "metadata": {
    "id": "qIp3zWbvRLvv"
   },
   "source": [
    "##**Model Creation**"
   ]
  },
  {
   "cell_type": "code",
   "execution_count": null,
   "metadata": {
    "id": "aeKyzzGHRHYD"
   },
   "outputs": [],
   "source": [
    "# relu - the usage of ReLU helps to prevent the exponential growth in the computation required to operate the neural network.\n",
    "         #It has a derivative of either 0 or 1, depending on whether its input is negative or not\n",
    "model = Sequential([\n",
    "    Conv2D(32, (3, 3), activation='relu', input_shape=(224, 224, 3)),\n",
    "    MaxPooling2D((2, 2)),\n",
    "    Conv2D(64, (3, 3), activation='relu'),\n",
    "    MaxPooling2D((2, 2)),\n",
    "    Conv2D(128, (3, 3), activation='relu'),\n",
    "    MaxPooling2D((2, 2)),\n",
    "\n",
    "    Flatten(),\n",
    "    Dense(128, activation='relu'),\n",
    "    Dropout(0.5),\n",
    "    Dense(3, activation='softmax')\n",
    "])"
   ]
  },
  {
   "cell_type": "code",
   "execution_count": null,
   "metadata": {
    "id": "z3kID5DvRXY4"
   },
   "outputs": [],
   "source": [
    "model.compile(optimizer='adam', loss='categorical_crossentropy', metrics=['accuracy'])"
   ]
  },
  {
   "cell_type": "code",
   "execution_count": null,
   "metadata": {
    "colab": {
     "base_uri": "https://localhost:8080/"
    },
    "id": "T7q0XfFgRaMS",
    "outputId": "207e3dda-8431-4615-afc0-b0efdf5e5e79"
   },
   "outputs": [],
   "source": [
    "history = model.fit(X_train, y_train, epochs=30, batch_size=32, validation_split=0.2)"
   ]
  },
  {
   "cell_type": "code",
   "execution_count": null,
   "metadata": {
    "colab": {
     "base_uri": "https://localhost:8080/"
    },
    "id": "sHePlQTjRcKU",
    "outputId": "7a0ee1d2-32b1-4da0-9b4f-e8bb836db51f"
   },
   "outputs": [],
   "source": [
    "test_loss, test_accuracy = model.evaluate(X_test, y_test)\n",
    "print(f\"Test accuracy: {test_accuracy:.4f}\")"
   ]
  },
  {
   "cell_type": "code",
   "execution_count": null,
   "metadata": {
    "colab": {
     "base_uri": "https://localhost:8080/",
     "height": 466
    },
    "id": "FFM8qrcpRetM",
    "outputId": "57a6f0e1-07e3-424d-e026-1b5ca8e4c44d"
   },
   "outputs": [],
   "source": [
    "plt.plot(history.history['accuracy'],label='Accuracy')\n",
    "plt.plot(history.history['val_accuracy'] ,label='val_accuracy')\n",
    "plt.xlabel(\"No. of Epochs\")\n",
    "plt.ylabel(\"Accuracy\")\n",
    "\n",
    "plt.legend(loc = \"lower right\")"
   ]
  },
  {
   "cell_type": "markdown",
   "metadata": {
    "id": "FteWeAU-RkmJ"
   },
   "source": [
    "### As the model shows only 70% accuracy we are doing Data Augmentation to improve the accuracy."
   ]
  },
  {
   "cell_type": "markdown",
   "metadata": {
    "id": "vLe8ddLIRnnR"
   },
   "source": [
    "##**Data Augmentation**"
   ]
  },
  {
   "cell_type": "code",
   "execution_count": null,
   "metadata": {
    "id": "sPw1--ABRhW6"
   },
   "outputs": [],
   "source": [
    "datagen = ImageDataGenerator(\n",
    "    rotation_range=45,\n",
    "    width_shift_range=0.2,\n",
    "    height_shift_range=0.2,\n",
    "    shear_range=0.2,\n",
    "    zoom_range=0.2,\n",
    "    horizontal_flip=True,\n",
    "    fill_mode='nearest'\n",
    ")"
   ]
  },
  {
   "cell_type": "markdown",
   "metadata": {
    "id": "TszQ4QfHRv5q"
   },
   "source": [
    "##**Model Creation using different Optimizers after Data Augmentation**"
   ]
  },
  {
   "cell_type": "markdown",
   "metadata": {
    "id": "C_Q-C4ACR5k3"
   },
   "source": [
    "###**1.Adam optimizer**"
   ]
  },
  {
   "cell_type": "code",
   "execution_count": null,
   "metadata": {
    "id": "TYks8vSORsXr"
   },
   "outputs": [],
   "source": [
    "def create_model(input_shape, num_classes):\n",
    "    model = Sequential([\n",
    "        Conv2D(32, (3, 3), activation='relu', input_shape=input_shape),\n",
    "        MaxPooling2D((2, 2)),\n",
    "        Conv2D(64, (3, 3), activation='relu'),\n",
    "        MaxPooling2D((2, 2)),\n",
    "        Conv2D(128, (3, 3), activation='relu'),\n",
    "        MaxPooling2D((2, 2)),\n",
    "        Conv2D(256, (3, 3), activation='relu'),\n",
    "        MaxPooling2D((2, 2)),\n",
    "        Flatten(),\n",
    "        Dense(256, activation='relu'),\n",
    "        Dropout(0.5),\n",
    "        Dense(num_classes, activation='softmax')  # Output layer\n",
    "    ])\n",
    "    model.compile(optimizer='adam', loss='categorical_crossentropy', metrics=['accuracy'])\n",
    "    return model"
   ]
  },
  {
   "cell_type": "code",
   "execution_count": null,
   "metadata": {
    "id": "EV7m0ED2R_-d"
   },
   "outputs": [],
   "source": [
    "input_shape = (224, 224, 3)\n",
    "num_classes = 3\n",
    "model_da = create_model(input_shape, num_classes)"
   ]
  },
  {
   "cell_type": "code",
   "execution_count": null,
   "metadata": {
    "id": "0Rvm5FFZSB5n"
   },
   "outputs": [],
   "source": [
    "augmented_data = datagen.flow(X_train, y_train, batch_size=32)"
   ]
  },
  {
   "cell_type": "code",
   "execution_count": null,
   "metadata": {
    "colab": {
     "base_uri": "https://localhost:8080/"
    },
    "id": "QuiIUU2YSELg",
    "outputId": "95a9c3e1-4d93-4043-b223-6c0b6b22af31"
   },
   "outputs": [],
   "source": [
    "history = model_da.fit(augmented_data, epochs=50,steps_per_epoch=len(X_train) // 25, validation_data=(X_test, y_test))"
   ]
  },
  {
   "cell_type": "code",
   "execution_count": null,
   "metadata": {
    "colab": {
     "base_uri": "https://localhost:8080/"
    },
    "id": "aSL7NtsQSGWu",
    "outputId": "51d3dd44-04ee-4961-8bce-aa4c0612ff4f"
   },
   "outputs": [],
   "source": [
    "test_loss, test_accuracy = model_da.evaluate(X_test, y_test)\n",
    "print(f\"Test accuracy: {test_accuracy:.4f}\")"
   ]
  },
  {
   "cell_type": "markdown",
   "metadata": {
    "id": "PfpuLQ_XSLQD"
   },
   "source": [
    "### Model shows an accuracy of 87.50 % for Adam Optimizer."
   ]
  },
  {
   "cell_type": "code",
   "execution_count": null,
   "metadata": {
    "colab": {
     "base_uri": "https://localhost:8080/",
     "height": 466
    },
    "id": "-GNbTybdSIYe",
    "outputId": "fc58584b-0fb5-46e7-b75a-9d07343d9e12"
   },
   "outputs": [],
   "source": [
    "#Ploting the Accuracy and Validation Accuracy\n",
    "plt.plot(history.history['accuracy'],label='Accuracy')\n",
    "plt.plot(history.history['val_accuracy'] ,label='val_accuracy')\n",
    "plt.xlabel(\"No. of Epochs\")\n",
    "plt.ylabel(\"Accuracy\")\n",
    "\n",
    "plt.legend(loc = \"lower right\")"
   ]
  },
  {
   "cell_type": "markdown",
   "metadata": {
    "id": "_wZaxNaDSR8w"
   },
   "source": [
    "###**2.RMSProp Optimizer**"
   ]
  },
  {
   "cell_type": "code",
   "execution_count": null,
   "metadata": {
    "id": "PjmvWIg8SOis"
   },
   "outputs": [],
   "source": [
    "def create_model(input_shape, num_classes):\n",
    "    model = Sequential([\n",
    "        Conv2D(32, (3, 3), activation='relu', input_shape=input_shape),\n",
    "        MaxPooling2D((2, 2)),\n",
    "        Conv2D(64, (3, 3), activation='relu'),\n",
    "        MaxPooling2D((2, 2)),\n",
    "        Conv2D(128, (3, 3), activation='relu'),\n",
    "        MaxPooling2D((2, 2)),\n",
    "        Conv2D(256, (3, 3), activation='relu'),\n",
    "        MaxPooling2D((2, 2)),\n",
    "        Flatten(),\n",
    "        Dense(256, activation='relu'),\n",
    "        Dropout(0.5),\n",
    "        Dense(num_classes, activation='softmax')  # Output layer\n",
    "    ])\n",
    "    model.compile(optimizer='RMSprop', loss='categorical_crossentropy', metrics=['accuracy'])\n",
    "    return model"
   ]
  },
  {
   "cell_type": "code",
   "execution_count": null,
   "metadata": {
    "id": "O8Wu468cSYBM"
   },
   "outputs": [],
   "source": [
    "input_shape = (224, 224, 3)\n",
    "num_classes = 3\n",
    "model_rms = create_model(input_shape, num_classes)"
   ]
  },
  {
   "cell_type": "code",
   "execution_count": null,
   "metadata": {
    "id": "scnVUUcBSaU2"
   },
   "outputs": [],
   "source": [
    "augmented_data = datagen.flow(X_train, y_train, batch_size=32)"
   ]
  },
  {
   "cell_type": "code",
   "execution_count": null,
   "metadata": {
    "colab": {
     "base_uri": "https://localhost:8080/"
    },
    "id": "JNjFjUvTSdB2",
    "outputId": "6e1e25e5-8713-4a8d-cc25-71af1999a7aa"
   },
   "outputs": [],
   "source": [
    "history = model_rms.fit(augmented_data, epochs=50,steps_per_epoch=len(X_train) // 25, validation_data=(X_test, y_test))"
   ]
  },
  {
   "cell_type": "code",
   "execution_count": null,
   "metadata": {
    "colab": {
     "base_uri": "https://localhost:8080/"
    },
    "id": "FP5eWyy3SfPR",
    "outputId": "84745c40-4782-490c-d129-6f7ae5ce8a81"
   },
   "outputs": [],
   "source": [
    "test_loss, test_accuracy = model_rms.evaluate(X_test, y_test)\n",
    "print(f\"Test accuracy: {test_accuracy:.4f}\")"
   ]
  },
  {
   "cell_type": "markdown",
   "metadata": {
    "id": "nl7FufS9Smf1"
   },
   "source": [
    "### Model shows an accuracy of 50% for RMSProp Optimizer"
   ]
  },
  {
   "cell_type": "code",
   "execution_count": null,
   "metadata": {
    "colab": {
     "base_uri": "https://localhost:8080/",
     "height": 466
    },
    "id": "nZ3wacZuSkmH",
    "outputId": "3e6f3306-b6b5-4b04-a468-e39ae3e7dbb9"
   },
   "outputs": [],
   "source": [
    "#Ploting the Accuracy and Validation Accuracy\n",
    "plt.plot(history.history['accuracy'],label='Accuracy')\n",
    "plt.plot(history.history['val_accuracy'] ,label='val_accuracy')\n",
    "plt.xlabel(\"No. of Epochs\")\n",
    "plt.ylabel(\"Accuracy\")\n",
    "\n",
    "plt.legend(loc = \"lower right\")"
   ]
  },
  {
   "cell_type": "markdown",
   "metadata": {
    "id": "CprggX1OSwhK"
   },
   "source": [
    "##**3.SGD Optimizer**"
   ]
  },
  {
   "cell_type": "code",
   "execution_count": null,
   "metadata": {
    "id": "8nT5C9sFSo-S"
   },
   "outputs": [],
   "source": [
    "def create_model(input_shape, num_classes):\n",
    "    model = Sequential([\n",
    "        Conv2D(32, (3, 3), activation='relu', input_shape=input_shape),\n",
    "        MaxPooling2D((2, 2)),\n",
    "        Conv2D(64, (3, 3), activation='relu'),\n",
    "        MaxPooling2D((2, 2)),\n",
    "        Conv2D(128, (3, 3), activation='relu'),\n",
    "        MaxPooling2D((2, 2)),\n",
    "        Conv2D(256, (3, 3), activation='relu'),\n",
    "        MaxPooling2D((2, 2)),\n",
    "        Flatten(),\n",
    "        Dense(256, activation='relu'),\n",
    "        Dropout(0.5),\n",
    "        Dense(num_classes, activation='softmax')  # Output layer\n",
    "    ])\n",
    "    model.compile(optimizer='sgd', loss='categorical_crossentropy', metrics=['accuracy'])\n",
    "    return model"
   ]
  },
  {
   "cell_type": "code",
   "execution_count": null,
   "metadata": {
    "id": "d68mWzfhS4E-"
   },
   "outputs": [],
   "source": [
    "input_shape = (224, 224, 3)\n",
    "num_classes = 3\n",
    "model_sgd = create_model(input_shape, num_classes)"
   ]
  },
  {
   "cell_type": "code",
   "execution_count": null,
   "metadata": {
    "id": "8c0Fh3tWS61o"
   },
   "outputs": [],
   "source": [
    "augmented_data = datagen.flow(X_train, y_train, batch_size=32)"
   ]
  },
  {
   "cell_type": "code",
   "execution_count": null,
   "metadata": {
    "colab": {
     "base_uri": "https://localhost:8080/"
    },
    "id": "TgJU7pEES9wp",
    "outputId": "d55f98f7-bf7d-4a9a-84b1-b3ec381400e3"
   },
   "outputs": [],
   "source": [
    "history = model_sgd.fit(augmented_data, epochs=50,steps_per_epoch=len(X_train) // 25, validation_data=(X_test, y_test))"
   ]
  },
  {
   "cell_type": "code",
   "execution_count": null,
   "metadata": {
    "colab": {
     "base_uri": "https://localhost:8080/"
    },
    "id": "UlL8O3-7TATz",
    "outputId": "4220ffdb-baaf-4254-9fb4-fc978892ce9d"
   },
   "outputs": [],
   "source": [
    "test_loss, test_accuracy = model_sgd.evaluate(X_test, y_test)\n",
    "print(f\"Test accuracy: {test_accuracy:.4f}\")"
   ]
  },
  {
   "cell_type": "markdown",
   "metadata": {
    "id": "6r02skMbTJXd"
   },
   "source": [
    "### Model shows an accuracy of 29% for SGD Optimizer."
   ]
  },
  {
   "cell_type": "code",
   "execution_count": null,
   "metadata": {
    "colab": {
     "base_uri": "https://localhost:8080/",
     "height": 466
    },
    "id": "63ZzncktTDPB",
    "outputId": "a7a94366-1cce-4b65-ee5b-4e18a1e98faf"
   },
   "outputs": [],
   "source": [
    "#Ploting the Accuracy and Validation Accuracy\n",
    "plt.plot(history.history['accuracy'],label='Accuracy')\n",
    "plt.plot(history.history['val_accuracy'] ,label='val_accuracy')\n",
    "plt.xlabel(\"No. of Epochs\")\n",
    "plt.ylabel(\"Accuracy\")\n",
    "\n",
    "plt.legend(loc = \"lower right\")"
   ]
  },
  {
   "cell_type": "markdown",
   "metadata": {
    "id": "3k5AlAsfTO9J"
   },
   "source": [
    "###**4.ADAGRAD Optimizer**"
   ]
  },
  {
   "cell_type": "code",
   "execution_count": null,
   "metadata": {
    "id": "kF5GecSFTMFv"
   },
   "outputs": [],
   "source": [
    "def create_model(input_shape, num_classes):\n",
    "    model = Sequential([\n",
    "        Conv2D(32, (3, 3), activation='relu', input_shape=input_shape),\n",
    "        MaxPooling2D((2, 2)),\n",
    "        Conv2D(64, (3, 3), activation='relu'),\n",
    "        MaxPooling2D((2, 2)),\n",
    "        Conv2D(128, (3, 3), activation='relu'),\n",
    "        MaxPooling2D((2, 2)),\n",
    "        Conv2D(256, (3, 3), activation='relu'),\n",
    "        MaxPooling2D((2, 2)),\n",
    "        Flatten(),\n",
    "        Dense(256, activation='relu'),\n",
    "        Dropout(0.5),\n",
    "        Dense(num_classes, activation='softmax')  # Output layer\n",
    "    ])\n",
    "    model.compile(optimizer='Adagrad', loss='categorical_crossentropy', metrics=['accuracy'])\n",
    "    return model"
   ]
  },
  {
   "cell_type": "code",
   "execution_count": null,
   "metadata": {
    "id": "Pterh3l_TUHh"
   },
   "outputs": [],
   "source": [
    "input_shape = (224, 224, 3)\n",
    "num_classes = 3\n",
    "model_adagrad = create_model(input_shape, num_classes)"
   ]
  },
  {
   "cell_type": "code",
   "execution_count": null,
   "metadata": {
    "id": "m1S5pb52TVzq"
   },
   "outputs": [],
   "source": [
    "augmented_data = datagen.flow(X_train, y_train, batch_size=32)"
   ]
  },
  {
   "cell_type": "code",
   "execution_count": null,
   "metadata": {
    "colab": {
     "base_uri": "https://localhost:8080/"
    },
    "id": "htYaxH9lTXcB",
    "outputId": "5db293ec-326c-42c8-ab87-133d3944c048"
   },
   "outputs": [],
   "source": [
    "history = model_adagrad.fit(augmented_data, epochs=50,steps_per_epoch=len(X_train) // 25, validation_data=(X_test, y_test))"
   ]
  },
  {
   "cell_type": "code",
   "execution_count": null,
   "metadata": {
    "colab": {
     "base_uri": "https://localhost:8080/"
    },
    "id": "hYTdXoOeTZZP",
    "outputId": "2615c8ca-a058-4bb2-dda5-c6ea28b505f6"
   },
   "outputs": [],
   "source": [
    "test_loss, test_accuracy = model_adagrad.evaluate(X_test, y_test)\n",
    "print(f\"Test accuracy: {test_accuracy:.4f}\")"
   ]
  },
  {
   "cell_type": "markdown",
   "metadata": {
    "id": "V-p5FULZTeqH"
   },
   "source": [
    "### Model shows an accuracy of 29% for ADAGRAD  Optimizer"
   ]
  },
  {
   "cell_type": "code",
   "execution_count": null,
   "metadata": {
    "colab": {
     "base_uri": "https://localhost:8080/",
     "height": 466
    },
    "id": "ahnsPxmHTciy",
    "outputId": "dc15b9da-e6f2-4781-b521-cef4477de0d4"
   },
   "outputs": [],
   "source": [
    "#Ploting the Accuracy and Validation Accuracy\n",
    "plt.plot(history.history['accuracy'],label='Accuracy')\n",
    "plt.plot(history.history['val_accuracy'] ,label='val_accuracy')\n",
    "plt.xlabel(\"No. of Epochs\")\n",
    "plt.ylabel(\"Accuracy\")\n",
    "\n",
    "plt.legend(loc = \"lower right\")"
   ]
  },
  {
   "cell_type": "markdown",
   "metadata": {
    "id": "i8sO9WzDUoeA"
   },
   "source": [
    "### Finalising the models with different optimizer"
   ]
  },
  {
   "cell_type": "code",
   "execution_count": null,
   "metadata": {
    "colab": {
     "base_uri": "https://localhost:8080/",
     "height": 578
    },
    "id": "mSez4c1NUVlG",
    "outputId": "8600fc43-7e4e-4cdb-8e78-2f9912b4efdc"
   },
   "outputs": [],
   "source": [
    "# comparison of accuracy of the models with different optimizer\n",
    "categories=['Adam optimizer','RMSProp Optimizer','SGD Optimizer','ADAGRAD Optimizer']\n",
    "values=[87.50,50.00,29.17,29.17]\n",
    "\n",
    "# Create DataFrame\n",
    "data = pd.DataFrame({'Optimizer': categories, 'Accuracy': values})\n",
    "\n",
    "# Plot\n",
    "plt.figure(figsize=(10, 6))\n",
    "ax = sns.barplot(x='Optimizer', y='Accuracy', data=data, palette='viridis')\n",
    "\n",
    "# Add values on the bars\n",
    "for p in ax.patches:\n",
    "    ax.annotate(format(p.get_height(), '.2f'),\n",
    "                (p.get_x() + p.get_width() / 2., p.get_height()),\n",
    "                ha='center', va='center',\n",
    "                xytext=(0, 5),\n",
    "                textcoords='offset points')\n",
    "\n",
    "# Add labels and title\n",
    "plt.xlabel('Optimizer',fontsize=20)\n",
    "plt.ylabel('Accuracy',fontsize=20)\n",
    "plt.title('ACCURACY OF THE  MODEL WITH DIFFERENT OPTIMIZERS')\n",
    "\n",
    "# Show plot\n",
    "plt.show()"
   ]
  },
  {
   "cell_type": "markdown",
   "metadata": {
    "id": "OxlLqQgBU4S-"
   },
   "source": [
    "### INSIGHT\n",
    "- 1.Adam optimizer shows an accuracy of 87.50.\n",
    "- 2.RMSProp Optimizer shows an accuracy of 50.\n",
    "- 3.SGD Optimizer shows an accuracy of 29.17.\n",
    "- 4.ADAGRAD Optimizer shows an accuracy of 29.17.\n",
    "- From all of the Optimizer, **Adam Optimizer** shows the most Accuracy of **87.50%**."
   ]
  },
  {
   "cell_type": "markdown",
   "metadata": {
    "id": "1vUxOa3mjanl"
   },
   "source": [
    "##**Predicting the Disease Class by using Adam Optimizer**"
   ]
  },
  {
   "cell_type": "code",
   "execution_count": null,
   "metadata": {
    "colab": {
     "base_uri": "https://localhost:8080/"
    },
    "id": "wgY9NlAIUyRe",
    "outputId": "c73727b7-6922-4e86-c5db-adc2bd135277"
   },
   "outputs": [],
   "source": [
    "# make prediction for X_test\n",
    "\n",
    "y_prediction = model_da.predict(X_test)\n",
    "\n",
    "leaf_class = ['Bacterial leaf blight', 'Brown spot', 'Leaf smut']"
   ]
  },
  {
   "cell_type": "code",
   "execution_count": null,
   "metadata": {
    "colab": {
     "base_uri": "https://localhost:8080/"
    },
    "id": "sBySVTdvjgcB",
    "outputId": "ac669f87-8ce4-4ac1-ba8c-28f270823e2e"
   },
   "outputs": [],
   "source": [
    "# get the predicted class for each sample\n",
    "predicted_classes = np.argmax(y_prediction, axis=1)\n",
    "print(predicted_classes)"
   ]
  },
  {
   "cell_type": "code",
   "execution_count": null,
   "metadata": {
    "id": "UkCvdl_Gjia1"
   },
   "outputs": [],
   "source": [
    "# Assuming you have 'y_hat' for predictions and 'y_test' for ground truth\n",
    "# Assuming 'leaf_class' is a list of class labels\n",
    "\n",
    "# Plot a random sample of test images, their predicted labels, and ground truth\n",
    "fig = plt.figure(figsize=(30, 25))\n",
    "for i, idx in enumerate(np.random.choice(X_test.shape[0], size=100, replace=True)):\n",
    "    ax = fig.add_subplot(10,10, i + 1, xticks=[], yticks=[])\n",
    "    ax.imshow(np.squeeze(X_test[idx]))\n",
    "\n",
    "    # Assuming 'y_hat' contains the model predictions\n",
    "    pred_idx = np.argmax(y_prediction[idx])\n",
    "\n",
    "    true_idx = np.argmax(y_prediction[idx])\n",
    "\n",
    "    ax.set_title(\"{} ({})\".format(leaf_class[pred_idx], leaf_class[true_idx]),\n",
    "                 color=(\"blue\" if pred_idx == true_idx else \"red\"))\n",
    "\n",
    "plt.tight_layout()"
   ]
  },
  {
   "cell_type": "markdown",
   "metadata": {
    "id": "ijnH_H38jtBD"
   },
   "source": [
    "##**For checking the performance ,we took 100 samples and 100 samples were accurately predicted.**"
   ]
  },
  {
   "cell_type": "code",
   "execution_count": null,
   "metadata": {
    "id": "zrsXVMkejlJe"
   },
   "outputs": [],
   "source": [
    "# print Accuracy\n",
    "\n",
    "test_Accuracy = model_da.evaluate(X_test,y_test)\n",
    "print(f\"Model's Accuracy : {test_Accuracy[1]*100}\")"
   ]
  },
  {
   "cell_type": "markdown",
   "metadata": {
    "id": "Ob14Sob_j2Ie"
   },
   "source": [
    "save the model"
   ]
  },
  {
   "cell_type": "code",
   "execution_count": null,
   "metadata": {
    "id": "72Z0ytlEjzEO"
   },
   "outputs": [],
   "source": [
    "# Save model architecture as JSON\n",
    "model_json = model_da.to_json()\n",
    "with open(\"/content/drive/My Drive/RiceLeafClass/model.json\", \"w\") as json_file:\n",
    "    json_file.write(model_json)\n",
    "\n",
    "# Save model weights\n",
    "model_da.save_weights(\"/content/drive/My Drive/RiceLeafClass/model_weights.h5\")\n"
   ]
  },
  {
   "cell_type": "code",
   "execution_count": null,
   "metadata": {
    "id": "T3QGwWitj5-r"
   },
   "outputs": [],
   "source": [
    "# Load model architecture from JSON\n",
    "with open('/content/drive/My Drive/RiceLeafClass/model.json', 'r') as json_file:\n",
    "    loaded_model_json = json_file.read()\n",
    "loaded_model = model_from_json(loaded_model_json)\n",
    "\n",
    "# Load model weights\n",
    "loaded_model.load_weights(\"/content/drive/My Drive/RiceLeafClass/model_weights.h5\")"
   ]
  },
  {
   "cell_type": "markdown",
   "metadata": {
    "id": "30ImAhEhkA5g"
   },
   "source": [
    "## Predicting the Diseases using the Image From the PC"
   ]
  },
  {
   "cell_type": "code",
   "execution_count": null,
   "metadata": {
    "id": "xc5fD3qKj9DR"
   },
   "outputs": [],
   "source": [
    "# Define a dictionary mapping class indices to class labels\n",
    "class_labels = {0: 'Bacterial leaf blight', 1: 'Brown spot', 2: 'Leaf smut'}  # Update with your class labels\n",
    "\n",
    "def predict_image_from_path(image_path):\n",
    "    # Load image\n",
    "    img = cv2.imread(image_path)\n",
    "\n",
    "    # Preprocess image\n",
    "    img = cv2.cvtColor(img, cv2.COLOR_BGR2RGB)\n",
    "    plt.imshow(img)\n",
    "    plt.axis('off')\n",
    "    plt.show()\n",
    "\n",
    "    img = cv2.resize(img, (224, 224))  # adjust input size according to your model's input shape\n",
    "    img = img.astype('float32')\n",
    "    img /= 255.0  # normalize the pixel values\n",
    "    img = np.expand_dims(img, axis=0)\n",
    "\n",
    "    # Make prediction\n",
    "    prediction = loaded_model.predict(img)\n",
    "    predicted_class_index = np.argmax(prediction)\n",
    "    predicted_class_name = class_labels.get(predicted_class_index, \"Unknown\")\n",
    "\n",
    "    # Print prediction\n",
    "    print(\"Predicted class:\", predicted_class_name)\n",
    "\n",
    "# Example usage: Predict using a training image\n",
    "image_path = \"/content/drive/My Drive/RiceLeafClass/Leaf smut/DSC_0317.JPG\"  # Update with the path to your training image\n",
    "predict_image_from_path(image_path)"
   ]
  },
  {
   "cell_type": "markdown",
   "metadata": {
    "id": "SA8wsmjpkHRp"
   },
   "source": [
    "##**Predict the diseases using Images from Google using its URL**"
   ]
  },
  {
   "cell_type": "code",
   "execution_count": null,
   "metadata": {
    "id": "NiynlyS7kDtn"
   },
   "outputs": [],
   "source": [
    "# Define a dictionary mapping class indices to class labels\n",
    "class_labels = {0: 'Bacterial leaf blight', 1: 'Brown spot', 2:'Leaf smut' }\n",
    "\n",
    "\n",
    "def predict_image_from_url():\n",
    "    # Prompt user to enter image URL\n",
    "    image_url = input(\"Enter the URL of the image: \")\n",
    "\n",
    "    # Load image from URL\n",
    "    resp = urllib.request.urlopen(image_url)\n",
    "    img = np.asarray(bytearray(resp.read()), dtype=\"uint8\")\n",
    "    img = cv2.imdecode(img, cv2.IMREAD_COLOR)\n",
    "    img = cv2.cvtColor(img, cv2.COLOR_BGR2RGB)\n",
    "    plt.imshow(img)\n",
    "    plt.axis('off')\n",
    "    plt.show()\n",
    "\n",
    "        # Preprocess image\n",
    "    img = cv2.resize(img, (224, 224))  # adjust input size according to your model's input shape\n",
    "    img = img.astype('float32')\n",
    "    img /= 255.0  # normalize the pixel values\n",
    "    img = np.expand_dims(img, axis=0)\n",
    "\n",
    "    # Make prediction\n",
    "    prediction = loaded_model.predict(img)\n",
    "    predicted_class_index = np.argmax(prediction)\n",
    "    predicted_class_name = class_labels.get(predicted_class_index, \"Unknown\")\n",
    "\n",
    "    # Print prediction\n",
    "    print(\"Predicted class:\", predicted_class_name)\n",
    "\n",
    "        # Print prediction\n",
    "    print(\"Predicted class index:\", predicted_class_index)\n",
    "    # You can map the index to class label based on your model's classes\n",
    "\n",
    "# Example usage\n",
    "predict_image_from_url()"
   ]
  },
  {
   "cell_type": "markdown",
   "metadata": {
    "id": "JPmVLRkekP7N"
   },
   "source": [
    "##**Conclusion:-**\n",
    "- The dataset contains 119 jpg images of different diseases.\n",
    "- Here,we had tried 4 Optimizers for model creation in which **Adam Optimizer** shows the higher accuracy of **87.50%**.Thus we can conclude that it works well for the Rice Leaf Disease Detection.\n",
    "- By using the Adam Optimizer we tried it with the 100 samples of test data and it showed a great output and later we tried it with image from the PC as well by using the URL.The model accurately predicted them.\n",
    "- Thus we can conclude that CNN model with Adam Optimizer is the best one for predicting the Rice Leaf Prediction."
   ]
  },
  {
   "cell_type": "markdown",
   "metadata": {
    "id": "zJRDqyohkXQW"
   },
   "source": [
    "##**Suggestion :-**\n",
    "- As an Asian, Rice plays a major role in our daily diet.Thus production of healthy rice are very important as well.\n",
    "- Some of the suggestions from our Analysis are :-\n",
    "- Taking the prevention method before the disease get worse.\n",
    "- Awareness programs for every farmers throughout the country.\n",
    "- Give proper instructions,effects and prevention methods.\n",
    "- Provide proper pesticides,fertilizers and quality seeds by the Government can make a big change in farmers life."
   ]
  },
  {
   "cell_type": "markdown",
   "metadata": {
    "id": "KpZWCN9jkcPi"
   },
   "source": [
    "##**Risks :-**\n",
    "- Data Loading and processing.\n",
    "- High computational time.\n",
    "- Optimizer showing less accuracy.\n",
    "- Less information"
   ]
  }
 ],
 "metadata": {
  "colab": {
   "provenance": []
  },
  "kernelspec": {
   "display_name": "Python 3 (ipykernel)",
   "language": "python",
   "name": "python3"
  },
  "language_info": {
   "codemirror_mode": {
    "name": "ipython",
    "version": 3
   },
   "file_extension": ".py",
   "mimetype": "text/x-python",
   "name": "python",
   "nbconvert_exporter": "python",
   "pygments_lexer": "ipython3",
   "version": "3.11.5"
  }
 },
 "nbformat": 4,
 "nbformat_minor": 1
}
